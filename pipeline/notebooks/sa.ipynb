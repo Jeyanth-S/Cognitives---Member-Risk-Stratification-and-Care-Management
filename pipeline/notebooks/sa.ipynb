{
 "cells": [
  {
   "cell_type": "code",
   "execution_count": 2,
   "id": "9fe27db7",
   "metadata": {},
   "outputs": [],
   "source": [
    "import duckdb"
   ]
  },
  {
   "cell_type": "code",
   "execution_count": 12,
   "id": "6342769f",
   "metadata": {},
   "outputs": [
    {
     "name": "stdout",
     "output_type": "stream",
     "text": [
      "                 name\n",
      "0    beneficiary_2008\n",
      "1    beneficiary_2009\n",
      "2    beneficiary_2010\n",
      "3     beneficiary_all\n",
      "4             carrier\n",
      "5         carrier_agg\n",
      "6        chronic_2008\n",
      "7        chronic_2009\n",
      "8        chronic_2010\n",
      "9   combined_features\n",
      "10          inpatient\n",
      "11         outpatient\n",
      "12                pde\n",
      "              column_name column_type null   key default extra\n",
      "0             DESYNPUF_ID     VARCHAR  YES  None    None  None\n",
      "1                  CLM_ID      BIGINT  YES  None    None  None\n",
      "2             CLM_FROM_DT      BIGINT  YES  None    None  None\n",
      "3             CLM_THRU_DT      BIGINT  YES  None    None  None\n",
      "4          ICD9_DGNS_CD_1     VARCHAR  YES  None    None  None\n",
      "..                    ...         ...  ...   ...     ...   ...\n",
      "137   LINE_ICD9_DGNS_CD_9     VARCHAR  YES  None    None  None\n",
      "138  LINE_ICD9_DGNS_CD_10     VARCHAR  YES  None    None  None\n",
      "139  LINE_ICD9_DGNS_CD_11     VARCHAR  YES  None    None  None\n",
      "140  LINE_ICD9_DGNS_CD_12     VARCHAR  YES  None    None  None\n",
      "141  LINE_ICD9_DGNS_CD_13     VARCHAR  YES  None    None  None\n",
      "\n",
      "[142 rows x 6 columns]\n"
     ]
    }
   ],
   "source": [
    "import duckdb\n",
    "\n",
    "# connect to your db\n",
    "con = duckdb.connect(\"../db/synpuf.duckdb\")\n",
    "\n",
    "# List all tables in the DB\n",
    "tables = con.execute(\"SHOW TABLES\").fetchdf()\n",
    "print(tables)\n",
    "\n",
    "# If you want to see schema (columns + types) of a table, e.g. 'carrier':\n",
    "schema = con.execute(\"DESCRIBE carrier\").fetchdf()\n",
    "print(schema)\n",
    "\n",
    "con.close()\n"
   ]
  },
  {
   "cell_type": "code",
   "execution_count": 3,
   "id": "44c981be",
   "metadata": {},
   "outputs": [
    {
     "name": "stdout",
     "output_type": "stream",
     "text": [
      "┌───────────────┐\n",
      "│    message    │\n",
      "│    varchar    │\n",
      "├───────────────┤\n",
      "│ Hello, World! │\n",
      "└───────────────┘\n",
      "\n"
     ]
    }
   ],
   "source": [
    "duckdb.sql(\"SELECT 'Hello, World!' as message\").show()"
   ]
  },
  {
   "cell_type": "code",
   "execution_count": 11,
   "id": "1e950be5",
   "metadata": {},
   "outputs": [
    {
     "name": "stdout",
     "output_type": "stream",
     "text": [
      "✅ Final dataset created: combined_features_2010.csv & .parquet\n"
     ]
    }
   ],
   "source": [
    "import duckdb\n",
    "\n",
    "# connect\n",
    "con = duckdb.connect(\"../db/synpuf.duckdb\")\n",
    "\n",
    "# 1. Chronic disease count (1 = disease, 2 = no disease → so we count only '1')\n",
    "chronic_cols = [\n",
    "    \"SP_ALZHDMTA\",\"SP_CHF\",\"SP_CHRNKIDN\",\"SP_CNCR\",\"SP_COPD\",\n",
    "    \"SP_DEPRESSN\",\"SP_DIABETES\",\"SP_ISCHMCHT\",\"SP_OSTEOPRS\",\n",
    "    \"SP_RA_OA\",\"SP_STRKETIA\"\n",
    "]\n",
    "\n",
    "chronic_expr = \" + \".join([f\"(CASE WHEN {c}=1 THEN 1 ELSE 0 END)\" for c in chronic_cols])\n",
    "\n",
    "for year in [\"2008\",\"2009\",\"2010\"]:\n",
    "    con.execute(f\"\"\"\n",
    "    CREATE OR REPLACE TABLE chronic_{year} AS\n",
    "    SELECT DESYNPUF_ID,\n",
    "           {chronic_expr} AS chronic_count_{year}\n",
    "    FROM beneficiary_{year}\n",
    "    \"\"\")\n",
    "\n",
    "# 2. Aggregate carrier claims\n",
    "con.execute(\"\"\"\n",
    "CREATE OR REPLACE TABLE carrier_agg AS\n",
    "SELECT DESYNPUF_ID,\n",
    "       COUNT(DISTINCT CLM_ID) AS total_visits,\n",
    "       (\n",
    "         SUM(COALESCE(LINE_NCH_PMT_AMT_1,0)) +\n",
    "         SUM(COALESCE(LINE_NCH_PMT_AMT_2,0)) +\n",
    "         SUM(COALESCE(LINE_NCH_PMT_AMT_3,0)) +\n",
    "         SUM(COALESCE(LINE_NCH_PMT_AMT_4,0)) +\n",
    "         SUM(COALESCE(LINE_NCH_PMT_AMT_5,0)) +\n",
    "         SUM(COALESCE(LINE_NCH_PMT_AMT_6,0)) +\n",
    "         SUM(COALESCE(LINE_NCH_PMT_AMT_7,0)) +\n",
    "         SUM(COALESCE(LINE_NCH_PMT_AMT_8,0)) +\n",
    "         SUM(COALESCE(LINE_NCH_PMT_AMT_9,0)) +\n",
    "         SUM(COALESCE(LINE_NCH_PMT_AMT_10,0)) +\n",
    "         SUM(COALESCE(LINE_NCH_PMT_AMT_11,0)) +\n",
    "         SUM(COALESCE(LINE_NCH_PMT_AMT_12,0)) +\n",
    "         SUM(COALESCE(LINE_NCH_PMT_AMT_13,0))\n",
    "       ) AS total_amount,\n",
    "       (\n",
    "         AVG(COALESCE(LINE_NCH_PMT_AMT_1,0)) +\n",
    "         AVG(COALESCE(LINE_NCH_PMT_AMT_2,0)) +\n",
    "         AVG(COALESCE(LINE_NCH_PMT_AMT_3,0)) +\n",
    "         AVG(COALESCE(LINE_NCH_PMT_AMT_4,0)) +\n",
    "         AVG(COALESCE(LINE_NCH_PMT_AMT_5,0)) +\n",
    "         AVG(COALESCE(LINE_NCH_PMT_AMT_6,0)) +\n",
    "         AVG(COALESCE(LINE_NCH_PMT_AMT_7,0)) +\n",
    "         AVG(COALESCE(LINE_NCH_PMT_AMT_8,0)) +\n",
    "         AVG(COALESCE(LINE_NCH_PMT_AMT_9,0)) +\n",
    "         AVG(COALESCE(LINE_NCH_PMT_AMT_10,0)) +\n",
    "         AVG(COALESCE(LINE_NCH_PMT_AMT_11,0)) +\n",
    "         AVG(COALESCE(LINE_NCH_PMT_AMT_12,0)) +\n",
    "         AVG(COALESCE(LINE_NCH_PMT_AMT_13,0))\n",
    "       ) AS avg_claim_amount\n",
    "FROM carrier\n",
    "GROUP BY DESYNPUF_ID\n",
    "\"\"\")\n",
    "\n",
    "# 3. Merge into 2010 beneficiary\n",
    "con.execute(\"\"\"\n",
    "CREATE OR REPLACE TABLE combined_features AS\n",
    "SELECT s.*,\n",
    "       c08.chronic_count_2008,\n",
    "       c09.chronic_count_2009,\n",
    "       c10.chronic_count_2010,\n",
    "       COALESCE(cl.total_visits,0) AS total_visits,\n",
    "       COALESCE(cl.total_amount,0) AS total_amount,\n",
    "       COALESCE(cl.avg_claim_amount,0) AS avg_claim_amount\n",
    "FROM beneficiary_2010 s\n",
    "LEFT JOIN chronic_2008 c08 USING (DESYNPUF_ID)\n",
    "LEFT JOIN chronic_2009 c09 USING (DESYNPUF_ID)\n",
    "LEFT JOIN chronic_2010 c10 USING (DESYNPUF_ID)\n",
    "LEFT JOIN carrier_agg cl USING (DESYNPUF_ID)\n",
    "\"\"\")\n",
    "\n",
    "# 4. Save final file\n",
    "con.execute(\"\"\"\n",
    "COPY combined_features \n",
    "TO 'combined_features_2010.csv' (HEADER, DELIMITER ',')\n",
    "\"\"\")\n",
    "\n",
    "con.execute(\"\"\"\n",
    "COPY combined_features \n",
    "TO 'combined_features_2010.parquet' (FORMAT PARQUET)\n",
    "\"\"\")\n",
    "\n",
    "print(\"✅ Final dataset created: combined_features_2010.csv & .parquet\")\n",
    "\n",
    "con.close()\n"
   ]
  },
  {
   "cell_type": "code",
   "execution_count": 14,
   "id": "9dcc1b63",
   "metadata": {},
   "outputs": [
    {
     "name": "stdout",
     "output_type": "stream",
     "text": [
      "    cid                      name     type  notnull dflt_value     pk\n",
      "0     0               DESYNPUF_ID  VARCHAR    False       None  False\n",
      "1     1             BENE_BIRTH_DT   BIGINT    False       None  False\n",
      "2     2             BENE_DEATH_DT   BIGINT    False       None  False\n",
      "3     3         BENE_SEX_IDENT_CD   BIGINT    False       None  False\n",
      "4     4              BENE_RACE_CD   BIGINT    False       None  False\n",
      "5     5             BENE_ESRD_IND  VARCHAR    False       None  False\n",
      "6     6             SP_STATE_CODE   BIGINT    False       None  False\n",
      "7     7            BENE_COUNTY_CD   BIGINT    False       None  False\n",
      "8     8   BENE_HI_CVRAGE_TOT_MONS   BIGINT    False       None  False\n",
      "9     9  BENE_SMI_CVRAGE_TOT_MONS   BIGINT    False       None  False\n",
      "10   10  BENE_HMO_CVRAGE_TOT_MONS   BIGINT    False       None  False\n",
      "11   11         PLAN_CVRG_MOS_NUM   BIGINT    False       None  False\n",
      "12   12               SP_ALZHDMTA   BIGINT    False       None  False\n",
      "13   13                    SP_CHF   BIGINT    False       None  False\n",
      "14   14               SP_CHRNKIDN   BIGINT    False       None  False\n",
      "15   15                   SP_CNCR   BIGINT    False       None  False\n",
      "16   16                   SP_COPD   BIGINT    False       None  False\n",
      "17   17               SP_DEPRESSN   BIGINT    False       None  False\n",
      "18   18               SP_DIABETES   BIGINT    False       None  False\n",
      "19   19               SP_ISCHMCHT   BIGINT    False       None  False\n",
      "20   20               SP_OSTEOPRS   BIGINT    False       None  False\n",
      "21   21                  SP_RA_OA   BIGINT    False       None  False\n",
      "22   22               SP_STRKETIA   BIGINT    False       None  False\n",
      "23   23               MEDREIMB_IP   DOUBLE    False       None  False\n",
      "24   24                 BENRES_IP   DOUBLE    False       None  False\n",
      "25   25                 PPPYMT_IP   DOUBLE    False       None  False\n",
      "26   26               MEDREIMB_OP   DOUBLE    False       None  False\n",
      "27   27                 BENRES_OP   DOUBLE    False       None  False\n",
      "28   28                 PPPYMT_OP   DOUBLE    False       None  False\n",
      "29   29              MEDREIMB_CAR   DOUBLE    False       None  False\n",
      "30   30                BENRES_CAR   DOUBLE    False       None  False\n",
      "31   31                PPPYMT_CAR   DOUBLE    False       None  False\n",
      "32   32        chronic_count_2008  INTEGER    False       None  False\n",
      "33   33        chronic_count_2009  INTEGER    False       None  False\n",
      "34   34        chronic_count_2010  INTEGER    False       None  False\n",
      "35   35              total_visits   BIGINT    False       None  False\n",
      "36   36              total_amount   DOUBLE    False       None  False\n",
      "37   37          avg_claim_amount   DOUBLE    False       None  False\n"
     ]
    }
   ],
   "source": [
    "import duckdb\n",
    "\n",
    "con = duckdb.connect(\"../db/synpuf.duckdb\")\n",
    "\n",
    "# Get column info\n",
    "cols = con.execute(\"PRAGMA table_info('combined_features')\").df()\n",
    "print(cols)\n",
    "\n",
    "con.close()\n"
   ]
  },
  {
   "cell_type": "code",
   "execution_count": 15,
   "id": "ae5c04cb",
   "metadata": {},
   "outputs": [
    {
     "name": "stdout",
     "output_type": "stream",
     "text": [
      "Total rows: 112754\n"
     ]
    }
   ],
   "source": [
    "import duckdb\n",
    "\n",
    "con = duckdb.connect(\"../db/synpuf.duckdb\")\n",
    "\n",
    "row_count = con.execute(\"SELECT COUNT(*) FROM combined_features\").fetchone()[0]\n",
    "print(\"Total rows:\", row_count)\n",
    "\n",
    "con.close()\n"
   ]
  }
 ],
 "metadata": {
  "kernelspec": {
   "display_name": "Python 3",
   "language": "python",
   "name": "python3"
  },
  "language_info": {
   "codemirror_mode": {
    "name": "ipython",
    "version": 3
   },
   "file_extension": ".py",
   "mimetype": "text/x-python",
   "name": "python",
   "nbconvert_exporter": "python",
   "pygments_lexer": "ipython3",
   "version": "3.12.6"
  }
 },
 "nbformat": 4,
 "nbformat_minor": 5
}
