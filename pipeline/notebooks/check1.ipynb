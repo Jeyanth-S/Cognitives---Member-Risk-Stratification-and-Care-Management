{
 "cells": [
  {
   "cell_type": "code",
   "execution_count": 13,
   "id": "048735eb",
   "metadata": {},
   "outputs": [
    {
     "name": "stdout",
     "output_type": "stream",
     "text": [
      "Loaded rows 0 - 100000\n",
      "Loaded rows 100000 - 200000\n",
      "Loaded rows 200000 - 300000\n",
      "Loaded rows 300000 - 400000\n",
      "Loaded rows 400000 - 500000\n",
      "Loaded rows 500000 - 600000\n",
      "Loaded rows 600000 - 700000\n",
      "Loaded rows 700000 - 800000\n",
      "Loaded rows 800000 - 900000\n",
      "Loaded rows 900000 - 1000000\n",
      "Loaded rows 1000000 - 1100000\n",
      "Loaded rows 1100000 - 1200000\n",
      "Loaded rows 1200000 - 1300000\n",
      "Loaded rows 1300000 - 1400000\n",
      "Loaded rows 1400000 - 1500000\n",
      "Loaded rows 1500000 - 1600000\n",
      "Loaded rows 1600000 - 1700000\n",
      "Loaded rows 1700000 - 1800000\n",
      "Loaded rows 1800000 - 1900000\n",
      "Loaded rows 1900000 - 2000000\n",
      "Loaded rows 2000000 - 2100000\n",
      "Loaded rows 2100000 - 2200000\n",
      "Loaded rows 2200000 - 2300000\n",
      "Loaded rows 2300000 - 2400000\n",
      "Loaded rows 2400000 - 2500000\n",
      "Loaded rows 2500000 - 2600000\n",
      "Loaded rows 2600000 - 2700000\n",
      "Loaded rows 2700000 - 2800000\n",
      "Loaded rows 2800000 - 2900000\n",
      "Loaded rows 2900000 - 3000000\n",
      "Loaded rows 3000000 - 3100000\n",
      "Loaded rows 3100000 - 3200000\n",
      "Loaded rows 3200000 - 3300000\n",
      "Loaded rows 3300000 - 3400000\n",
      "Loaded rows 3400000 - 3500000\n",
      "Loaded rows 3500000 - 3600000\n",
      "Loaded rows 3600000 - 3700000\n",
      "Loaded rows 3700000 - 3800000\n",
      "Loaded rows 3800000 - 3900000\n",
      "Loaded rows 3900000 - 4000000\n",
      "Loaded rows 4000000 - 4100000\n",
      "Loaded rows 4100000 - 4200000\n",
      "Loaded rows 4200000 - 4300000\n",
      "Loaded rows 4300000 - 4400000\n",
      "Loaded rows 4400000 - 4500000\n",
      "Loaded rows 4500000 - 4600000\n",
      "Loaded rows 4600000 - 4700000\n",
      "Loaded rows 4700000 - 4741335\n"
     ]
    }
   ],
   "source": [
    "import duckdb\n",
    "\n",
    "con = duckdb.connect(\"../db/synpuf.duckdb\")\n",
    "\n",
    "# Stream through the carrier table in manageable chunks\n",
    "chunk_size = 100_000\n",
    "offset = 0\n",
    "\n",
    "while True:\n",
    "    query = f\"SELECT * FROM carrier LIMIT {chunk_size} OFFSET {offset}\"\n",
    "    df_chunk = con.execute(query).df()\n",
    "    if df_chunk.empty:\n",
    "        break\n",
    "    \n",
    "    print(f\"Loaded rows {offset} - {offset + len(df_chunk)}\")\n",
    "    # process df_chunk here (EDA, feature extraction, save to parquet, etc.)\n",
    "    \n",
    "    offset += chunk_size\n"
   ]
  },
  {
   "cell_type": "code",
   "execution_count": 9,
   "id": "3f62497e",
   "metadata": {},
   "outputs": [
    {
     "data": {
      "text/html": [
       "<div>\n",
       "<style scoped>\n",
       "    .dataframe tbody tr th:only-of-type {\n",
       "        vertical-align: middle;\n",
       "    }\n",
       "\n",
       "    .dataframe tbody tr th {\n",
       "        vertical-align: top;\n",
       "    }\n",
       "\n",
       "    .dataframe thead th {\n",
       "        text-align: right;\n",
       "    }\n",
       "</style>\n",
       "<table border=\"1\" class=\"dataframe\">\n",
       "  <thead>\n",
       "    <tr style=\"text-align: right;\">\n",
       "      <th></th>\n",
       "      <th>DESYNPUF_ID</th>\n",
       "      <th>CLM_ID</th>\n",
       "      <th>CLM_FROM_DT</th>\n",
       "      <th>CLM_THRU_DT</th>\n",
       "      <th>ICD9_DGNS_CD_1</th>\n",
       "      <th>ICD9_DGNS_CD_2</th>\n",
       "      <th>ICD9_DGNS_CD_3</th>\n",
       "      <th>ICD9_DGNS_CD_4</th>\n",
       "      <th>ICD9_DGNS_CD_5</th>\n",
       "      <th>ICD9_DGNS_CD_6</th>\n",
       "      <th>...</th>\n",
       "      <th>LINE_ICD9_DGNS_CD_4</th>\n",
       "      <th>LINE_ICD9_DGNS_CD_5</th>\n",
       "      <th>LINE_ICD9_DGNS_CD_6</th>\n",
       "      <th>LINE_ICD9_DGNS_CD_7</th>\n",
       "      <th>LINE_ICD9_DGNS_CD_8</th>\n",
       "      <th>LINE_ICD9_DGNS_CD_9</th>\n",
       "      <th>LINE_ICD9_DGNS_CD_10</th>\n",
       "      <th>LINE_ICD9_DGNS_CD_11</th>\n",
       "      <th>LINE_ICD9_DGNS_CD_12</th>\n",
       "      <th>LINE_ICD9_DGNS_CD_13</th>\n",
       "    </tr>\n",
       "  </thead>\n",
       "  <tbody>\n",
       "  </tbody>\n",
       "</table>\n",
       "<p>0 rows × 142 columns</p>\n",
       "</div>"
      ],
      "text/plain": [
       "Empty DataFrame\n",
       "Columns: [DESYNPUF_ID, CLM_ID, CLM_FROM_DT, CLM_THRU_DT, ICD9_DGNS_CD_1, ICD9_DGNS_CD_2, ICD9_DGNS_CD_3, ICD9_DGNS_CD_4, ICD9_DGNS_CD_5, ICD9_DGNS_CD_6, ICD9_DGNS_CD_7, ICD9_DGNS_CD_8, PRF_PHYSN_NPI_1, PRF_PHYSN_NPI_2, PRF_PHYSN_NPI_3, PRF_PHYSN_NPI_4, PRF_PHYSN_NPI_5, PRF_PHYSN_NPI_6, PRF_PHYSN_NPI_7, PRF_PHYSN_NPI_8, PRF_PHYSN_NPI_9, PRF_PHYSN_NPI_10, PRF_PHYSN_NPI_11, PRF_PHYSN_NPI_12, PRF_PHYSN_NPI_13, TAX_NUM_1, TAX_NUM_2, TAX_NUM_3, TAX_NUM_4, TAX_NUM_5, TAX_NUM_6, TAX_NUM_7, TAX_NUM_8, TAX_NUM_9, TAX_NUM_10, TAX_NUM_11, TAX_NUM_12, TAX_NUM_13, HCPCS_CD_1, HCPCS_CD_2, HCPCS_CD_3, HCPCS_CD_4, HCPCS_CD_5, HCPCS_CD_6, HCPCS_CD_7, HCPCS_CD_8, HCPCS_CD_9, HCPCS_CD_10, HCPCS_CD_11, HCPCS_CD_12, HCPCS_CD_13, LINE_NCH_PMT_AMT_1, LINE_NCH_PMT_AMT_2, LINE_NCH_PMT_AMT_3, LINE_NCH_PMT_AMT_4, LINE_NCH_PMT_AMT_5, LINE_NCH_PMT_AMT_6, LINE_NCH_PMT_AMT_7, LINE_NCH_PMT_AMT_8, LINE_NCH_PMT_AMT_9, LINE_NCH_PMT_AMT_10, LINE_NCH_PMT_AMT_11, LINE_NCH_PMT_AMT_12, LINE_NCH_PMT_AMT_13, LINE_BENE_PTB_DDCTBL_AMT_1, LINE_BENE_PTB_DDCTBL_AMT_2, LINE_BENE_PTB_DDCTBL_AMT_3, LINE_BENE_PTB_DDCTBL_AMT_4, LINE_BENE_PTB_DDCTBL_AMT_5, LINE_BENE_PTB_DDCTBL_AMT_6, LINE_BENE_PTB_DDCTBL_AMT_7, LINE_BENE_PTB_DDCTBL_AMT_8, LINE_BENE_PTB_DDCTBL_AMT_9, LINE_BENE_PTB_DDCTBL_AMT_10, LINE_BENE_PTB_DDCTBL_AMT_11, LINE_BENE_PTB_DDCTBL_AMT_12, LINE_BENE_PTB_DDCTBL_AMT_13, LINE_BENE_PRMRY_PYR_PD_AMT_1, LINE_BENE_PRMRY_PYR_PD_AMT_2, LINE_BENE_PRMRY_PYR_PD_AMT_3, LINE_BENE_PRMRY_PYR_PD_AMT_4, LINE_BENE_PRMRY_PYR_PD_AMT_5, LINE_BENE_PRMRY_PYR_PD_AMT_6, LINE_BENE_PRMRY_PYR_PD_AMT_7, LINE_BENE_PRMRY_PYR_PD_AMT_8, LINE_BENE_PRMRY_PYR_PD_AMT_9, LINE_BENE_PRMRY_PYR_PD_AMT_10, LINE_BENE_PRMRY_PYR_PD_AMT_11, LINE_BENE_PRMRY_PYR_PD_AMT_12, LINE_BENE_PRMRY_PYR_PD_AMT_13, LINE_COINSRNC_AMT_1, LINE_COINSRNC_AMT_2, LINE_COINSRNC_AMT_3, LINE_COINSRNC_AMT_4, LINE_COINSRNC_AMT_5, LINE_COINSRNC_AMT_6, LINE_COINSRNC_AMT_7, LINE_COINSRNC_AMT_8, LINE_COINSRNC_AMT_9, LINE_COINSRNC_AMT_10, ...]\n",
       "Index: []\n",
       "\n",
       "[0 rows x 142 columns]"
      ]
     },
     "execution_count": 9,
     "metadata": {},
     "output_type": "execute_result"
    }
   ],
   "source": [
    "df_chunk.head()"
   ]
  }
 ],
 "metadata": {
  "kernelspec": {
   "display_name": "pytorch-env",
   "language": "python",
   "name": "python3"
  },
  "language_info": {
   "codemirror_mode": {
    "name": "ipython",
    "version": 3
   },
   "file_extension": ".py",
   "mimetype": "text/x-python",
   "name": "python",
   "nbconvert_exporter": "python",
   "pygments_lexer": "ipython3",
   "version": "3.12.3"
  }
 },
 "nbformat": 4,
 "nbformat_minor": 5
}
