{
 "cells": [
  {
   "cell_type": "code",
   "execution_count": 1,
   "id": "a4dbadec",
   "metadata": {},
   "outputs": [],
   "source": [
    "import pandas as pd"
   ]
  },
  {
   "cell_type": "code",
   "execution_count": 2,
   "id": "532db1f1",
   "metadata": {},
   "outputs": [],
   "source": [
    "beneficiary_summary_2008_path = \"/media/jeyanth-s/DevDrive/AI_Workspace/projects/Risk Management/OG data/176541_DE1_0_2008_Beneficiary_Summary_File_Sample_1/DE1_0_2008_Beneficiary_Summary_File_Sample_1.csv\"\n",
    "inpatient_path = \"/media/jeyanth-s/DevDrive/AI_Workspace/projects/Risk Management/OG data/176549_DE1_0_2008_to_2010_Inpatient_Claims_Sample_1/DE1_0_2008_to_2010_Inpatient_Claims_Sample_1.csv\"\n",
    "outpatient_path = \"/media/jeyanth-s/DevDrive/AI_Workspace/projects/Risk Management/OG data/176616_DE1_0_2008_to_2010_Outpatient_Claims_Sample_1/DE1_0_2008_to_2010_Outpatient_Claims_Sample_1.csv\"\n",
    "beneficiary_summary_2009_path = \"/media/jeyanth-s/DevDrive/AI_Workspace/projects/Risk Management/OG data/176600_DE1_0_2009_Beneficiary_Summary_File_Sample_1/DE1_0_2009_Beneficiary_Summary_File_Sample_1.csv\"\n",
    "claims_sampleA_path = \"/media/jeyanth-s/DevDrive/AI_Workspace/projects/Risk Management/OG data/DE1_0_2008_to_2010_Carrier_Claims_Sample_1A.csv\"\n",
    "claims_sampleB_path = \"/media/jeyanth-s/DevDrive/AI_Workspace/projects/Risk Management/OG data/DE1_0_2008_to_2010_Carrier_Claims_Sample_1B.csv\"\n",
    "prescription_drug_path = \"/media/jeyanth-s/DevDrive/AI_Workspace/projects/Risk Management/OG data/DE1_0_2008_to_2010_Prescription_Drug_Events_Sample_1.csv\"\n",
    "beneficiary_summary_2010_path = \"/media/jeyanth-s/DevDrive/AI_Workspace/projects/Risk Management/OG data/DE1_0_2010_Beneficiary_Summary_File_Sample_1.csv\""
   ]
  },
  {
   "cell_type": "code",
   "execution_count": 3,
   "id": "17135974",
   "metadata": {},
   "outputs": [
    {
     "ename": "FileNotFoundError",
     "evalue": "[Errno 2] No such file or directory: '/media/jeyanth-s/DevDrive/AI_Workspace/projects/Risk Management/OG data/176541_DE1_0_2008_Beneficiary_Summary_File_Sample_1/DE1_0_2008_Beneficiary_Summary_File_Sample_1.csv'",
     "output_type": "error",
     "traceback": [
      "\u001b[31m---------------------------------------------------------------------------\u001b[39m",
      "\u001b[31mFileNotFoundError\u001b[39m                         Traceback (most recent call last)",
      "\u001b[36mCell\u001b[39m\u001b[36m \u001b[39m\u001b[32mIn[3]\u001b[39m\u001b[32m, line 1\u001b[39m\n\u001b[32m----> \u001b[39m\u001b[32m1\u001b[39m beneficiary_summary_2008 = \u001b[43mpd\u001b[49m\u001b[43m.\u001b[49m\u001b[43mread_csv\u001b[49m\u001b[43m(\u001b[49m\u001b[43mbeneficiary_summary_2008_path\u001b[49m\u001b[43m,\u001b[49m\u001b[43m \u001b[49m\u001b[43mnrows\u001b[49m\u001b[43m=\u001b[49m\u001b[32;43m10000\u001b[39;49m\u001b[43m)\u001b[49m\n\u001b[32m      2\u001b[39m beneficiary_summary_2009 = pd.read_csv(beneficiary_summary_2009_path, nrows = \u001b[32m10000\u001b[39m)\n\u001b[32m      3\u001b[39m inpatient = pd.read_csv(inpatient_path, nrows = \u001b[32m10000\u001b[39m)\n",
      "\u001b[36mFile \u001b[39m\u001b[32mc:\\Users\\ashraf deen\\AppData\\Local\\Programs\\Python\\Python312\\Lib\\site-packages\\pandas\\io\\parsers\\readers.py:1026\u001b[39m, in \u001b[36mread_csv\u001b[39m\u001b[34m(filepath_or_buffer, sep, delimiter, header, names, index_col, usecols, dtype, engine, converters, true_values, false_values, skipinitialspace, skiprows, skipfooter, nrows, na_values, keep_default_na, na_filter, verbose, skip_blank_lines, parse_dates, infer_datetime_format, keep_date_col, date_parser, date_format, dayfirst, cache_dates, iterator, chunksize, compression, thousands, decimal, lineterminator, quotechar, quoting, doublequote, escapechar, comment, encoding, encoding_errors, dialect, on_bad_lines, delim_whitespace, low_memory, memory_map, float_precision, storage_options, dtype_backend)\u001b[39m\n\u001b[32m   1013\u001b[39m kwds_defaults = _refine_defaults_read(\n\u001b[32m   1014\u001b[39m     dialect,\n\u001b[32m   1015\u001b[39m     delimiter,\n\u001b[32m   (...)\u001b[39m\u001b[32m   1022\u001b[39m     dtype_backend=dtype_backend,\n\u001b[32m   1023\u001b[39m )\n\u001b[32m   1024\u001b[39m kwds.update(kwds_defaults)\n\u001b[32m-> \u001b[39m\u001b[32m1026\u001b[39m \u001b[38;5;28;01mreturn\u001b[39;00m \u001b[43m_read\u001b[49m\u001b[43m(\u001b[49m\u001b[43mfilepath_or_buffer\u001b[49m\u001b[43m,\u001b[49m\u001b[43m \u001b[49m\u001b[43mkwds\u001b[49m\u001b[43m)\u001b[49m\n",
      "\u001b[36mFile \u001b[39m\u001b[32mc:\\Users\\ashraf deen\\AppData\\Local\\Programs\\Python\\Python312\\Lib\\site-packages\\pandas\\io\\parsers\\readers.py:620\u001b[39m, in \u001b[36m_read\u001b[39m\u001b[34m(filepath_or_buffer, kwds)\u001b[39m\n\u001b[32m    617\u001b[39m _validate_names(kwds.get(\u001b[33m\"\u001b[39m\u001b[33mnames\u001b[39m\u001b[33m\"\u001b[39m, \u001b[38;5;28;01mNone\u001b[39;00m))\n\u001b[32m    619\u001b[39m \u001b[38;5;66;03m# Create the parser.\u001b[39;00m\n\u001b[32m--> \u001b[39m\u001b[32m620\u001b[39m parser = \u001b[43mTextFileReader\u001b[49m\u001b[43m(\u001b[49m\u001b[43mfilepath_or_buffer\u001b[49m\u001b[43m,\u001b[49m\u001b[43m \u001b[49m\u001b[43m*\u001b[49m\u001b[43m*\u001b[49m\u001b[43mkwds\u001b[49m\u001b[43m)\u001b[49m\n\u001b[32m    622\u001b[39m \u001b[38;5;28;01mif\u001b[39;00m chunksize \u001b[38;5;129;01mor\u001b[39;00m iterator:\n\u001b[32m    623\u001b[39m     \u001b[38;5;28;01mreturn\u001b[39;00m parser\n",
      "\u001b[36mFile \u001b[39m\u001b[32mc:\\Users\\ashraf deen\\AppData\\Local\\Programs\\Python\\Python312\\Lib\\site-packages\\pandas\\io\\parsers\\readers.py:1620\u001b[39m, in \u001b[36mTextFileReader.__init__\u001b[39m\u001b[34m(self, f, engine, **kwds)\u001b[39m\n\u001b[32m   1617\u001b[39m     \u001b[38;5;28mself\u001b[39m.options[\u001b[33m\"\u001b[39m\u001b[33mhas_index_names\u001b[39m\u001b[33m\"\u001b[39m] = kwds[\u001b[33m\"\u001b[39m\u001b[33mhas_index_names\u001b[39m\u001b[33m\"\u001b[39m]\n\u001b[32m   1619\u001b[39m \u001b[38;5;28mself\u001b[39m.handles: IOHandles | \u001b[38;5;28;01mNone\u001b[39;00m = \u001b[38;5;28;01mNone\u001b[39;00m\n\u001b[32m-> \u001b[39m\u001b[32m1620\u001b[39m \u001b[38;5;28mself\u001b[39m._engine = \u001b[38;5;28;43mself\u001b[39;49m\u001b[43m.\u001b[49m\u001b[43m_make_engine\u001b[49m\u001b[43m(\u001b[49m\u001b[43mf\u001b[49m\u001b[43m,\u001b[49m\u001b[43m \u001b[49m\u001b[38;5;28;43mself\u001b[39;49m\u001b[43m.\u001b[49m\u001b[43mengine\u001b[49m\u001b[43m)\u001b[49m\n",
      "\u001b[36mFile \u001b[39m\u001b[32mc:\\Users\\ashraf deen\\AppData\\Local\\Programs\\Python\\Python312\\Lib\\site-packages\\pandas\\io\\parsers\\readers.py:1880\u001b[39m, in \u001b[36mTextFileReader._make_engine\u001b[39m\u001b[34m(self, f, engine)\u001b[39m\n\u001b[32m   1878\u001b[39m     \u001b[38;5;28;01mif\u001b[39;00m \u001b[33m\"\u001b[39m\u001b[33mb\u001b[39m\u001b[33m\"\u001b[39m \u001b[38;5;129;01mnot\u001b[39;00m \u001b[38;5;129;01min\u001b[39;00m mode:\n\u001b[32m   1879\u001b[39m         mode += \u001b[33m\"\u001b[39m\u001b[33mb\u001b[39m\u001b[33m\"\u001b[39m\n\u001b[32m-> \u001b[39m\u001b[32m1880\u001b[39m \u001b[38;5;28mself\u001b[39m.handles = \u001b[43mget_handle\u001b[49m\u001b[43m(\u001b[49m\n\u001b[32m   1881\u001b[39m \u001b[43m    \u001b[49m\u001b[43mf\u001b[49m\u001b[43m,\u001b[49m\n\u001b[32m   1882\u001b[39m \u001b[43m    \u001b[49m\u001b[43mmode\u001b[49m\u001b[43m,\u001b[49m\n\u001b[32m   1883\u001b[39m \u001b[43m    \u001b[49m\u001b[43mencoding\u001b[49m\u001b[43m=\u001b[49m\u001b[38;5;28;43mself\u001b[39;49m\u001b[43m.\u001b[49m\u001b[43moptions\u001b[49m\u001b[43m.\u001b[49m\u001b[43mget\u001b[49m\u001b[43m(\u001b[49m\u001b[33;43m\"\u001b[39;49m\u001b[33;43mencoding\u001b[39;49m\u001b[33;43m\"\u001b[39;49m\u001b[43m,\u001b[49m\u001b[43m \u001b[49m\u001b[38;5;28;43;01mNone\u001b[39;49;00m\u001b[43m)\u001b[49m\u001b[43m,\u001b[49m\n\u001b[32m   1884\u001b[39m \u001b[43m    \u001b[49m\u001b[43mcompression\u001b[49m\u001b[43m=\u001b[49m\u001b[38;5;28;43mself\u001b[39;49m\u001b[43m.\u001b[49m\u001b[43moptions\u001b[49m\u001b[43m.\u001b[49m\u001b[43mget\u001b[49m\u001b[43m(\u001b[49m\u001b[33;43m\"\u001b[39;49m\u001b[33;43mcompression\u001b[39;49m\u001b[33;43m\"\u001b[39;49m\u001b[43m,\u001b[49m\u001b[43m \u001b[49m\u001b[38;5;28;43;01mNone\u001b[39;49;00m\u001b[43m)\u001b[49m\u001b[43m,\u001b[49m\n\u001b[32m   1885\u001b[39m \u001b[43m    \u001b[49m\u001b[43mmemory_map\u001b[49m\u001b[43m=\u001b[49m\u001b[38;5;28;43mself\u001b[39;49m\u001b[43m.\u001b[49m\u001b[43moptions\u001b[49m\u001b[43m.\u001b[49m\u001b[43mget\u001b[49m\u001b[43m(\u001b[49m\u001b[33;43m\"\u001b[39;49m\u001b[33;43mmemory_map\u001b[39;49m\u001b[33;43m\"\u001b[39;49m\u001b[43m,\u001b[49m\u001b[43m \u001b[49m\u001b[38;5;28;43;01mFalse\u001b[39;49;00m\u001b[43m)\u001b[49m\u001b[43m,\u001b[49m\n\u001b[32m   1886\u001b[39m \u001b[43m    \u001b[49m\u001b[43mis_text\u001b[49m\u001b[43m=\u001b[49m\u001b[43mis_text\u001b[49m\u001b[43m,\u001b[49m\n\u001b[32m   1887\u001b[39m \u001b[43m    \u001b[49m\u001b[43merrors\u001b[49m\u001b[43m=\u001b[49m\u001b[38;5;28;43mself\u001b[39;49m\u001b[43m.\u001b[49m\u001b[43moptions\u001b[49m\u001b[43m.\u001b[49m\u001b[43mget\u001b[49m\u001b[43m(\u001b[49m\u001b[33;43m\"\u001b[39;49m\u001b[33;43mencoding_errors\u001b[39;49m\u001b[33;43m\"\u001b[39;49m\u001b[43m,\u001b[49m\u001b[43m \u001b[49m\u001b[33;43m\"\u001b[39;49m\u001b[33;43mstrict\u001b[39;49m\u001b[33;43m\"\u001b[39;49m\u001b[43m)\u001b[49m\u001b[43m,\u001b[49m\n\u001b[32m   1888\u001b[39m \u001b[43m    \u001b[49m\u001b[43mstorage_options\u001b[49m\u001b[43m=\u001b[49m\u001b[38;5;28;43mself\u001b[39;49m\u001b[43m.\u001b[49m\u001b[43moptions\u001b[49m\u001b[43m.\u001b[49m\u001b[43mget\u001b[49m\u001b[43m(\u001b[49m\u001b[33;43m\"\u001b[39;49m\u001b[33;43mstorage_options\u001b[39;49m\u001b[33;43m\"\u001b[39;49m\u001b[43m,\u001b[49m\u001b[43m \u001b[49m\u001b[38;5;28;43;01mNone\u001b[39;49;00m\u001b[43m)\u001b[49m\u001b[43m,\u001b[49m\n\u001b[32m   1889\u001b[39m \u001b[43m\u001b[49m\u001b[43m)\u001b[49m\n\u001b[32m   1890\u001b[39m \u001b[38;5;28;01massert\u001b[39;00m \u001b[38;5;28mself\u001b[39m.handles \u001b[38;5;129;01mis\u001b[39;00m \u001b[38;5;129;01mnot\u001b[39;00m \u001b[38;5;28;01mNone\u001b[39;00m\n\u001b[32m   1891\u001b[39m f = \u001b[38;5;28mself\u001b[39m.handles.handle\n",
      "\u001b[36mFile \u001b[39m\u001b[32mc:\\Users\\ashraf deen\\AppData\\Local\\Programs\\Python\\Python312\\Lib\\site-packages\\pandas\\io\\common.py:873\u001b[39m, in \u001b[36mget_handle\u001b[39m\u001b[34m(path_or_buf, mode, encoding, compression, memory_map, is_text, errors, storage_options)\u001b[39m\n\u001b[32m    868\u001b[39m \u001b[38;5;28;01melif\u001b[39;00m \u001b[38;5;28misinstance\u001b[39m(handle, \u001b[38;5;28mstr\u001b[39m):\n\u001b[32m    869\u001b[39m     \u001b[38;5;66;03m# Check whether the filename is to be opened in binary mode.\u001b[39;00m\n\u001b[32m    870\u001b[39m     \u001b[38;5;66;03m# Binary mode does not support 'encoding' and 'newline'.\u001b[39;00m\n\u001b[32m    871\u001b[39m     \u001b[38;5;28;01mif\u001b[39;00m ioargs.encoding \u001b[38;5;129;01mand\u001b[39;00m \u001b[33m\"\u001b[39m\u001b[33mb\u001b[39m\u001b[33m\"\u001b[39m \u001b[38;5;129;01mnot\u001b[39;00m \u001b[38;5;129;01min\u001b[39;00m ioargs.mode:\n\u001b[32m    872\u001b[39m         \u001b[38;5;66;03m# Encoding\u001b[39;00m\n\u001b[32m--> \u001b[39m\u001b[32m873\u001b[39m         handle = \u001b[38;5;28;43mopen\u001b[39;49m\u001b[43m(\u001b[49m\n\u001b[32m    874\u001b[39m \u001b[43m            \u001b[49m\u001b[43mhandle\u001b[49m\u001b[43m,\u001b[49m\n\u001b[32m    875\u001b[39m \u001b[43m            \u001b[49m\u001b[43mioargs\u001b[49m\u001b[43m.\u001b[49m\u001b[43mmode\u001b[49m\u001b[43m,\u001b[49m\n\u001b[32m    876\u001b[39m \u001b[43m            \u001b[49m\u001b[43mencoding\u001b[49m\u001b[43m=\u001b[49m\u001b[43mioargs\u001b[49m\u001b[43m.\u001b[49m\u001b[43mencoding\u001b[49m\u001b[43m,\u001b[49m\n\u001b[32m    877\u001b[39m \u001b[43m            \u001b[49m\u001b[43merrors\u001b[49m\u001b[43m=\u001b[49m\u001b[43merrors\u001b[49m\u001b[43m,\u001b[49m\n\u001b[32m    878\u001b[39m \u001b[43m            \u001b[49m\u001b[43mnewline\u001b[49m\u001b[43m=\u001b[49m\u001b[33;43m\"\u001b[39;49m\u001b[33;43m\"\u001b[39;49m\u001b[43m,\u001b[49m\n\u001b[32m    879\u001b[39m \u001b[43m        \u001b[49m\u001b[43m)\u001b[49m\n\u001b[32m    880\u001b[39m     \u001b[38;5;28;01melse\u001b[39;00m:\n\u001b[32m    881\u001b[39m         \u001b[38;5;66;03m# Binary mode\u001b[39;00m\n\u001b[32m    882\u001b[39m         handle = \u001b[38;5;28mopen\u001b[39m(handle, ioargs.mode)\n",
      "\u001b[31mFileNotFoundError\u001b[39m: [Errno 2] No such file or directory: '/media/jeyanth-s/DevDrive/AI_Workspace/projects/Risk Management/OG data/176541_DE1_0_2008_Beneficiary_Summary_File_Sample_1/DE1_0_2008_Beneficiary_Summary_File_Sample_1.csv'"
     ]
    }
   ],
   "source": [
    "beneficiary_summary_2008 = pd.read_csv(beneficiary_summary_2008_path, nrows=10000)\n",
    "beneficiary_summary_2009 = pd.read_csv(beneficiary_summary_2009_path, nrows = 10000)\n",
    "inpatient = pd.read_csv(inpatient_path, nrows = 10000)\n",
    "outpatient = pd.read_csv(outpatient_path, nrows = 10000, low_memory=False)\n",
    "claims_sampleA = pd.read_csv(claims_sampleA_path, nrows = 10000, low_memory=False)\n",
    "claims_sampleB = pd.read_csv(claims_sampleB_path, nrows = 10000, low_memory=False)\n",
    "prescription_drug = pd.read_csv(prescription_drug_path, nrows = 10000)\n",
    "beneficiary_summary_2010 = pd.read_csv(beneficiary_summary_2010_path, nrows = 1000)"
   ]
  },
  {
   "cell_type": "code",
   "execution_count": 26,
   "id": "6c30e30f",
   "metadata": {},
   "outputs": [],
   "source": [
    "path = \"/media/jeyanth-s/DevDrive/AI_Workspace/projects/Risk Management/data\"\n",
    "beneficiary_summary_2008.to_csv(path+\"/beneficiary_summary_2008_10k.csv\", index=False)\n",
    "beneficiary_summary_2009.to_csv(path+\"/beneficiary_summary_2009_10k.csv\", index = False)\n",
    "beneficiary_summary_2010.to_csv(path+\"/beneficiary_summary_2010_10k.csv\", index=False)\n",
    "inpatient.to_csv(path+\"/inpatient_10K.csv\", index=False)\n",
    "outpatient.to_csv(path+\"/outpatient_10k.csv\", index=False)\n",
    "claims_sampleA.to_csv(path+\"/claims_sampleA_10k.csv\", index=False)\n",
    "claims_sampleB.to_csv(path+\"/claims_sampleB_10k.csv\", index=False)\n",
    "prescription_drug.to_csv(path+\"/prescription_drug_10k.csv\", index=False)"
   ]
  },
  {
   "cell_type": "code",
   "execution_count": 6,
   "id": "7103889a",
   "metadata": {},
   "outputs": [],
   "source": [
    "df = pd.read_csv(r\"C:\\Users\\ashraf deen\\OneDrive\\Desktop\\Cognitives - Patient Risk Startification and Care Management\\Cognitives---Member-Risk-Stratification-and-Care-Management\\data\\beneficiary_summary_2008_10k.csv\")"
   ]
  },
  {
   "cell_type": "code",
   "execution_count": 8,
   "id": "49eb2d74",
   "metadata": {},
   "outputs": [],
   "source": [
    "df['BENE_ESRD_IND']=df['BENE_ESRD_IND'].replace('Y',1)"
   ]
  },
  {
   "cell_type": "code",
   "execution_count": 14,
   "id": "52668ed1",
   "metadata": {},
   "outputs": [],
   "source": [
    "df.to_csv(r'C:\\Users\\ashraf deen\\OneDrive\\Desktop\\Cognitives - Patient Risk Startification and Care Management\\Cognitives---Member-Risk-Stratification-and-Care-Management\\data\\beneficiary_summary_2008_10k.csv', index=False)\n"
   ]
  },
  {
   "cell_type": "code",
   "execution_count": 16,
   "id": "04d075df",
   "metadata": {},
   "outputs": [],
   "source": [
    "df2=pd.read_csv(r\"C:\\Users\\ashraf deen\\OneDrive\\Desktop\\Cognitives - Patient Risk Startification and Care Management\\Cognitives---Member-Risk-Stratification-and-Care-Management\\data\\beneficiary_summary_2009_10k.csv\")\n",
    "df3=pd.read_csv(r\"C:\\Users\\ashraf deen\\OneDrive\\Desktop\\Cognitives - Patient Risk Startification and Care Management\\Cognitives---Member-Risk-Stratification-and-Care-Management\\data\\beneficiary_summary_2010_10k.csv\")"
   ]
  },
  {
   "cell_type": "code",
   "execution_count": 17,
   "id": "daceb926",
   "metadata": {},
   "outputs": [],
   "source": [
    "df2['BENE_ESRD_IND']=df2['BENE_ESRD_IND'].replace('Y',1)\n",
    "df3['BENE_ESRD_IND']=df3['BENE_ESRD_IND'].replace('Y',1)"
   ]
  },
  {
   "cell_type": "code",
   "execution_count": 18,
   "id": "b7f17aeb",
   "metadata": {},
   "outputs": [],
   "source": [
    "df2.to_csv(r'C:\\Users\\ashraf deen\\OneDrive\\Desktop\\Cognitives - Patient Risk Startification and Care Management\\Cognitives---Member-Risk-Stratification-and-Care-Management\\data\\beneficiary_summary_2009_10k.csv', index=False)\n",
    "df3.to_csv(r'C:\\Users\\ashraf deen\\OneDrive\\Desktop\\Cognitives - Patient Risk Startification and Care Management\\Cognitives---Member-Risk-Stratification-and-Care-Management\\data\\beneficiary_summary_2010_10k.csv',index=False)\n"
   ]
  }
 ],
 "metadata": {
  "kernelspec": {
   "display_name": "Python 3",
   "language": "python",
   "name": "python3"
  },
  "language_info": {
   "codemirror_mode": {
    "name": "ipython",
    "version": 3
   },
   "file_extension": ".py",
   "mimetype": "text/x-python",
   "name": "python",
   "nbconvert_exporter": "python",
   "pygments_lexer": "ipython3",
   "version": "3.12.1"
  }
 },
 "nbformat": 4,
 "nbformat_minor": 5
}
