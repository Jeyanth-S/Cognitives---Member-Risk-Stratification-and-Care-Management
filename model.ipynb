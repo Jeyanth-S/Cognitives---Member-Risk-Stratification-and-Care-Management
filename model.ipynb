{
 "cells": [
  {
   "cell_type": "code",
   "execution_count": 1,
   "id": "a4dbadec",
   "metadata": {},
   "outputs": [],
   "source": [
    "import pandas as pd"
   ]
  },
  {
   "cell_type": "code",
   "execution_count": 2,
   "id": "532db1f1",
   "metadata": {},
   "outputs": [],
   "source": [
    "beneficiary_summary_2008_path = \"/media/jeyanth-s/DevDrive/AI_Workspace/projects/Risk Management/OG data/176541_DE1_0_2008_Beneficiary_Summary_File_Sample_1/DE1_0_2008_Beneficiary_Summary_File_Sample_1.csv\"\n",
    "inpatient_path = \"/media/jeyanth-s/DevDrive/AI_Workspace/projects/Risk Management/OG data/176549_DE1_0_2008_to_2010_Inpatient_Claims_Sample_1/DE1_0_2008_to_2010_Inpatient_Claims_Sample_1.csv\"\n",
    "outpatient_path = \"/media/jeyanth-s/DevDrive/AI_Workspace/projects/Risk Management/OG data/176616_DE1_0_2008_to_2010_Outpatient_Claims_Sample_1/DE1_0_2008_to_2010_Outpatient_Claims_Sample_1.csv\"\n",
    "beneficiary_summary_2009_path = \"/media/jeyanth-s/DevDrive/AI_Workspace/projects/Risk Management/OG data/176600_DE1_0_2009_Beneficiary_Summary_File_Sample_1/DE1_0_2009_Beneficiary_Summary_File_Sample_1.csv\"\n",
    "claims_sampleA_path = \"/media/jeyanth-s/DevDrive/AI_Workspace/projects/Risk Management/OG data/DE1_0_2008_to_2010_Carrier_Claims_Sample_1A.csv\"\n",
    "claims_sampleB_path = \"/media/jeyanth-s/DevDrive/AI_Workspace/projects/Risk Management/OG data/DE1_0_2008_to_2010_Carrier_Claims_Sample_1B.csv\"\n",
    "prescription_drug_path = \"/media/jeyanth-s/DevDrive/AI_Workspace/projects/Risk Management/OG data/DE1_0_2008_to_2010_Prescription_Drug_Events_Sample_1.csv\"\n",
    "beneficiary_summary_2010_path = \"/media/jeyanth-s/DevDrive/AI_Workspace/projects/Risk Management/OG data/DE1_0_2010_Beneficiary_Summary_File_Sample_1.csv\""
   ]
  },
  {
   "cell_type": "code",
   "execution_count": null,
   "id": "4bcbe003",
   "metadata": {},
   "outputs": [],
   "source": [
    "beneficiary_summary_2008 = pd.read_csv(beneficiary_summary_2008_path, nrows=10000)\n",
    "beneficiary_summary_2009 = pd.read_csv(beneficiary_summary_2009_path, nrows = 10000)\n",
    "inpatient = pd.read_csv(inpatient_path, nrows = 10000)\n",
    "outpatient = pd.read_csv(outpatient_path, nrows = 10000, low_memory=False)\n",
    "claims_sampleA = pd.read_csv(claims_sampleA_path, nrows = 10000, low_memory=False)\n",
    "claims_sampleB = pd.read_csv(claims_sampleB_path, nrows = 10000, low_memory=False)\n",
    "prescription_drug = pd.read_csv(prescription_drug_path, nrows = 10000)\n",
    "beneficiary_summary_2010 = pd.read_csv(beneficiary_summary_2010_path, nrows = 1000)"
   ]
  },
  {
   "cell_type": "code",
   "execution_count": 26,
   "id": "6c30e30f",
   "metadata": {},
   "outputs": [],
   "source": [
    "path = \"/media/jeyanth-s/DevDrive/AI_Workspace/projects/Risk Management/data\"\n",
    "beneficiary_summary_2008.to_csv(path+\"/beneficiary_summary_2008_10k.csv\", index=False)\n",
    "beneficiary_summary_2009.to_csv(path+\"/beneficiary_summary_2009_10k.csv\", index = False)\n",
    "beneficiary_summary_2010.to_csv(path+\"/beneficiary_summary_2010_10k.csv\", index=False)\n",
    "inpatient.to_csv(path+\"/inpatient_10K.csv\", index=False)\n",
    "outpatient.to_csv(path+\"/outpatient_10k.csv\", index=False)\n",
    "claims_sampleA.to_csv(path+\"/claims_sampleA_10k.csv\", index=False)\n",
    "claims_sampleB.to_csv(path+\"/claims_sampleB_10k.csv\", index=False)\n",
    "prescription_drug.to_csv(path+\"/prescription_drug_10k.csv\", index=False)"
   ]
  },
  {
   "cell_type": "code",
   "execution_count": 6,
   "id": "7103889a",
   "metadata": {},
   "outputs": [],
   "source": [
    "df = pd.read_csv(r\"C:\\Users\\ashraf deen\\OneDrive\\Desktop\\Cognitives - Patient Risk Startification and Care Management\\Cognitives---Member-Risk-Stratification-and-Care-Management\\data\\beneficiary_summary_2008_10k.csv\")"
   ]
  },
  {
   "cell_type": "code",
   "execution_count": 8,
   "id": "49eb2d74",
   "metadata": {},
   "outputs": [],
   "source": [
    "df['BENE_ESRD_IND']=df['BENE_ESRD_IND'].replace('Y',1)"
   ]
  },
  {
   "cell_type": "code",
   "execution_count": 14,
   "id": "52668ed1",
   "metadata": {},
   "outputs": [],
   "source": [
    "df.to_csv(r'C:\\Users\\ashraf deen\\OneDrive\\Desktop\\Cognitives - Patient Risk Startification and Care Management\\Cognitives---Member-Risk-Stratification-and-Care-Management\\data\\beneficiary_summary_2008_10k.csv', index=False)\n"
   ]
  },
  {
   "cell_type": "code",
   "execution_count": 16,
   "id": "04d075df",
   "metadata": {},
   "outputs": [],
   "source": [
    "df2=pd.read_csv(r\"C:\\Users\\ashraf deen\\OneDrive\\Desktop\\Cognitives - Patient Risk Startification and Care Management\\Cognitives---Member-Risk-Stratification-and-Care-Management\\data\\beneficiary_summary_2009_10k.csv\")\n",
    "df3=pd.read_csv(r\"C:\\Users\\ashraf deen\\OneDrive\\Desktop\\Cognitives - Patient Risk Startification and Care Management\\Cognitives---Member-Risk-Stratification-and-Care-Management\\data\\beneficiary_summary_2010_10k.csv\")"
   ]
  },
  {
   "cell_type": "code",
   "execution_count": 17,
   "id": "daceb926",
   "metadata": {},
   "outputs": [],
   "source": [
    "df2['BENE_ESRD_IND']=df2['BENE_ESRD_IND'].replace('Y',1)\n",
    "df3['BENE_ESRD_IND']=df3['BENE_ESRD_IND'].replace('Y',1)"
   ]
  },
  {
   "cell_type": "code",
   "execution_count": 18,
   "id": "b7f17aeb",
   "metadata": {},
   "outputs": [],
   "source": [
    "df2.to_csv(r'C:\\Users\\ashraf deen\\OneDrive\\Desktop\\Cognitives - Patient Risk Startification and Care Management\\Cognitives---Member-Risk-Stratification-and-Care-Management\\data\\beneficiary_summary_2009_10k.csv', index=False)\n",
    "df3.to_csv(r'C:\\Users\\ashraf deen\\OneDrive\\Desktop\\Cognitives - Patient Risk Startification and Care Management\\Cognitives---Member-Risk-Stratification-and-Care-Management\\data\\beneficiary_summary_2010_10k.csv',index=False)\n"
   ]
  }
 ],
 "metadata": {
  "kernelspec": {
   "display_name": "Python 3",
   "language": "python",
   "name": "python3"
  },
  "language_info": {
   "codemirror_mode": {
    "name": "ipython",
    "version": 3
   },
   "file_extension": ".py",
   "mimetype": "text/x-python",
   "name": "python",
   "nbconvert_exporter": "python",
   "pygments_lexer": "ipython3",
   "version": "3.12.1"
  }
 },
 "nbformat": 4,
 "nbformat_minor": 5
}
